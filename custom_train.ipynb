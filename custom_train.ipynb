{
 "cells": [
  {
   "cell_type": "code",
   "execution_count": 10,
   "id": "cfdc3ff4-38cc-4864-9341-82af5d9f6839",
   "metadata": {},
   "outputs": [],
   "source": [
    "# System\n",
    "import pathlib\n",
    "import glob\n",
    "import os, os.path, shutil\n",
    "# Data Exploration\n",
    "import random\n",
    "import numpy as np\n",
    "import matplotlib.pyplot as plt\n",
    "import matplotlib.image as mpimg\n",
    "import pandas as pd\n",
    "import seaborn as sns\n",
    "from PIL import Image\n",
    "# Machine Learning\n",
    "from sklearn.metrics import classification_report, confusion_matrix\n",
    "from sklearn.metrics import roc_curve\n",
    "from sklearn.metrics import roc_auc_score\n",
    "from sklearn.metrics import auc\n",
    "#Deep Learning\n",
    "import tensorflow as tf\n",
    "import keras\n",
    "from keras.utils.vis_utils import plot_model \n",
    "from keras import backend as K \n",
    "from keras import metrics\n",
    "from keras.regularizers import l2,l1\n",
    "from keras.models import Sequential\n",
    "from keras.layers import Conv2D, MaxPooling2D, Flatten, Dense, Dropout, BatchNormalization, InputLayer, Activation\n",
    "from keras.preprocessing.image import img_to_array, ImageDataGenerator, array_to_img, load_img\n",
    "from keras.metrics import AUC\n",
    "from tensorflow.keras.optimizers import Adam, RMSprop\n",
    "from keras.callbacks import EarlyStopping, ModelCheckpoint\n",
    "import pydot\n",
    "from dask import bag,  diagnostics\n",
    "from mlxtend.plotting import plot_confusion_matrix\n",
    "\n",
    "%matplotlib inline"
   ]
  },
  {
   "cell_type": "markdown",
   "id": "f98b0da8-f790-4754-88b9-9e20718d1428",
   "metadata": {},
   "source": [
    "## Path Configuration"
   ]
  },
  {
   "cell_type": "code",
   "execution_count": 189,
   "id": "1ce6cd50-85ce-4156-a89d-c98297786f94",
   "metadata": {},
   "outputs": [],
   "source": [
    "train_dir = '/opt/ml/x-ray project/X-ray-project/images/train'\n",
    "validation_dir = '/opt/ml/x-ray project/X-ray-project/images/valid'\n",
    "test_dir = '/opt/ml/x-ray project/X-ray-project/images/test'\n",
    "test_1_dir = '/opt/ml/x-ray project/X-ray-project/images/test_1'\n",
    "\n",
    "normal_dir = '/opt/ml/x-ray project/X-ray-project/images/valid/normal'\n",
    "pneumonia_dir = '/opt/ml/x-ray project/X-ray-project/images/valid/pneumonida'\n",
    "tuberculosis_dir = '/opt/ml/x-ray project/X-ray-project/images/valid/tuberculosis'"
   ]
  },
  {
   "cell_type": "code",
   "execution_count": 212,
   "id": "dcb0a55a-336e-49ee-878f-3fffe640afaf",
   "metadata": {},
   "outputs": [],
   "source": [
    "for path in os.listdir(test_1_dir):\n",
    "    if 'ipynb' in path:\n",
    "        os.rmdir(f'{test_1_dir}/{path}')"
   ]
  },
  {
   "cell_type": "markdown",
   "id": "54602daf-7343-4abe-a9bd-f4ba4bdbf6f3",
   "metadata": {},
   "source": [
    "## Split dataset"
   ]
  },
  {
   "cell_type": "code",
   "execution_count": 209,
   "id": "f39a1c53-626d-4586-a299-a23fa4a4325c",
   "metadata": {},
   "outputs": [
    {
     "ename": "FileExistsError",
     "evalue": "[Errno 17] File exists: '/opt/ml/x-ray project/X-ray-project/images/valid'",
     "output_type": "error",
     "traceback": [
      "\u001b[0;31m---------------------------------------------------------------------------\u001b[0m",
      "\u001b[0;31mFileExistsError\u001b[0m                           Traceback (most recent call last)",
      "\u001b[0;32m<ipython-input-209-263961c6a7f6>\u001b[0m in \u001b[0;36m<module>\u001b[0;34m\u001b[0m\n\u001b[1;32m     15\u001b[0m \u001b[0;34m\u001b[0m\u001b[0m\n\u001b[1;32m     16\u001b[0m \u001b[0;31m### make directories for validation dataset\u001b[0m\u001b[0;34m\u001b[0m\u001b[0;34m\u001b[0m\u001b[0;34m\u001b[0m\u001b[0m\n\u001b[0;32m---> 17\u001b[0;31m \u001b[0mos\u001b[0m\u001b[0;34m.\u001b[0m\u001b[0mmkdir\u001b[0m\u001b[0;34m(\u001b[0m\u001b[0mvalidation_dir\u001b[0m\u001b[0;34m)\u001b[0m\u001b[0;34m\u001b[0m\u001b[0;34m\u001b[0m\u001b[0m\n\u001b[0m\u001b[1;32m     18\u001b[0m \u001b[0mos\u001b[0m\u001b[0;34m.\u001b[0m\u001b[0mmkdir\u001b[0m\u001b[0;34m(\u001b[0m\u001b[0mnormal_dir\u001b[0m\u001b[0;34m)\u001b[0m\u001b[0;34m\u001b[0m\u001b[0;34m\u001b[0m\u001b[0m\n\u001b[1;32m     19\u001b[0m \u001b[0mos\u001b[0m\u001b[0;34m.\u001b[0m\u001b[0mmkdir\u001b[0m\u001b[0;34m(\u001b[0m\u001b[0mpneumonia_dir\u001b[0m\u001b[0;34m)\u001b[0m\u001b[0;34m\u001b[0m\u001b[0;34m\u001b[0m\u001b[0m\n",
      "\u001b[0;31mFileExistsError\u001b[0m: [Errno 17] File exists: '/opt/ml/x-ray project/X-ray-project/images/valid'"
     ]
    }
   ],
   "source": [
    "### get images\n",
    "normal_imgs = [file for file in os.listdir(f'{train_dir}/normal')]\n",
    "pneumonia_imgs = [file for file in os.listdir(f'{train_dir}/pneumonia')]\n",
    "tuberculosis_imgs = [file for file in os.listdir(f'{train_dir}/tuberculosis')]\n",
    "\n",
    "### shuffle\n",
    "random.shuffle(normal_imgs)\n",
    "random.shuffle(pneumonia_imgs)\n",
    "random.shuffle(tuberculosis_imgs)\n",
    "\n",
    "### get len\n",
    "normal_len = int(len(normal_imgs) * 0.2)\n",
    "pneumonia_len = int(len(pneumonia_imgs) * 0.2)\n",
    "tuberculosis_len = int(len(tuberculosis_imgs) * 0.2)\n",
    "\n",
    "### make directories for validation dataset\n",
    "os.mkdir(validation_dir)\n",
    "os.mkdir(normal_dir)\n",
    "os.mkdir(pneumonia_dir)\n",
    "os.mkdir(tuberculosis_dir)\n",
    "\n",
    "### move file to validation folders\n",
    "# normal\n",
    "imgs = normal_imgs[:normal_len]\n",
    "for img in imgs:\n",
    "    origin = os.path.join(f'{train_dir}/normal', img)\n",
    "    dest = os.path.join(normal_dir, img)\n",
    "    shutil.move(origin, dest)\n",
    "# pneumonia\n",
    "imgs = pneumonia_imgs[:pneumonia_len]\n",
    "for img in imgs:\n",
    "    origin = os.path.join(f'{train_dir}/pneumonia', img)\n",
    "    dest = os.path.join(pneumonia_dir, img)\n",
    "    shutil.move(origin, dest)\n",
    "# tuberculosis\n",
    "imgs = tuberculosis_imgs[:tuberculosis_len]\n",
    "for img in imgs:\n",
    "    origin = os.path.join(f'{train_dir}/tuberculosis', img)\n",
    "    dest = os.path.join(tuberculosis_dir, img)\n",
    "    shutil.move(origin, dest)"
   ]
  },
  {
   "cell_type": "markdown",
   "id": "f01b6e78-8530-4806-aae7-12c5369a0568",
   "metadata": {},
   "source": [
    "## Image Preprocessing"
   ]
  },
  {
   "cell_type": "code",
   "execution_count": 213,
   "id": "3e87832d-a0d1-499c-a5a8-f4e3c4a0b28b",
   "metadata": {
    "tags": []
   },
   "outputs": [
    {
     "name": "stdout",
     "output_type": "stream",
     "text": [
      "Found 7390 images belonging to 3 classes.\n",
      "Found 1847 images belonging to 3 classes.\n",
      "Found 1596 images belonging to 3 classes.\n",
      "Found 143 images belonging to 3 classes.\n"
     ]
    }
   ],
   "source": [
    "# Build data generator function\n",
    "\n",
    "def make_data_generator(\n",
    "    train_datagen, train_dir, \n",
    "    val_datagen, val_dir, \n",
    "    test_datagen, test_dir,\n",
    "    test_1_datagen, test_1_dir):\n",
    "    \n",
    "    datagen_lst = [train_datagen, val_datagen, test_datagen, test_1_datagen]\n",
    "    directory_lst = [train_dir, val_dir, test_dir, test_1_dir]\n",
    "    generator_lst = []\n",
    "    for generator, directory in zip(datagen_lst, directory_lst):\n",
    "        if directory == train_dir:\n",
    "            shuffle = True\n",
    "        else:\n",
    "            shuffle = False\n",
    "        g = generator.flow_from_directory(directory = directory,\n",
    "                                         target_size = (150,150),\n",
    "                                         batch_size = 128,\n",
    "                                         color_mode = 'grayscale',\n",
    "                                         class_mode = 'categorical',\n",
    "                                         shuffle = shuffle,\n",
    "                                         seed = 42)\n",
    "        generator_lst.append(g)\n",
    "    \n",
    "    return generator_lst\n",
    "\n",
    "# Load the images\n",
    "train_datagen = ImageDataGenerator(rescale = 1.0/255.0,\n",
    "                                   zoom_range = 0.2,\n",
    "                                   shear_range = 0.2,\n",
    "                                   horizontal_flip = True)\n",
    "val_datagen = ImageDataGenerator(rescale=1.0/255.0)\n",
    "test_datagen = ImageDataGenerator(rescale=1.0/255.0)\n",
    "test_1_datagen = ImageDataGenerator(rescale=1.0/255.0)\n",
    "\n",
    "train_generator, val_generator, test_generator, test_1_generator = make_data_generator(\n",
    "    train_datagen, train_dir,\n",
    "    val_datagen, validation_dir,\n",
    "    test_datagen, test_dir,\n",
    "    test_1_datagen, test_1_dir)"
   ]
  },
  {
   "cell_type": "markdown",
   "id": "29908127-4576-4fda-a540-9757d1a28690",
   "metadata": {},
   "source": [
    "## Model"
   ]
  },
  {
   "cell_type": "code",
   "execution_count": 223,
   "id": "9e759fa9-7b30-43f3-ad43-57975983a1f2",
   "metadata": {},
   "outputs": [
    {
     "name": "stdout",
     "output_type": "stream",
     "text": [
      "Epoch 1/30\n",
      "58/58 [==============================] - 109s 2s/step - loss: 0.7602 - acc: 0.6604 - val_loss: 0.4642 - val_acc: 0.8073\n",
      "Epoch 2/30\n",
      "58/58 [==============================] - 106s 2s/step - loss: 0.4282 - acc: 0.8311 - val_loss: 0.3794 - val_acc: 0.8625\n",
      "Epoch 3/30\n",
      "58/58 [==============================] - 104s 2s/step - loss: 0.3542 - acc: 0.8576 - val_loss: 0.3546 - val_acc: 0.8630\n",
      "Epoch 4/30\n",
      "58/58 [==============================] - 106s 2s/step - loss: 0.3041 - acc: 0.8751 - val_loss: 0.2384 - val_acc: 0.9036\n",
      "Epoch 5/30\n",
      "58/58 [==============================] - 104s 2s/step - loss: 0.2625 - acc: 0.8934 - val_loss: 0.2066 - val_acc: 0.9210\n",
      "Epoch 6/30\n",
      "58/58 [==============================] - 107s 2s/step - loss: 0.2390 - acc: 0.9041 - val_loss: 0.2517 - val_acc: 0.9025\n",
      "Epoch 7/30\n",
      "58/58 [==============================] - 106s 2s/step - loss: 0.2241 - acc: 0.9137 - val_loss: 0.2447 - val_acc: 0.9063\n",
      "Epoch 8/30\n",
      "58/58 [==============================] - 106s 2s/step - loss: 0.2147 - acc: 0.9134 - val_loss: 0.2036 - val_acc: 0.9155\n",
      "Epoch 9/30\n",
      "58/58 [==============================] - 108s 2s/step - loss: 0.1878 - acc: 0.9303 - val_loss: 0.1751 - val_acc: 0.9372\n",
      "Epoch 10/30\n",
      "58/58 [==============================] - 107s 2s/step - loss: 0.2000 - acc: 0.9196 - val_loss: 0.1765 - val_acc: 0.9339\n",
      "Epoch 11/30\n",
      "58/58 [==============================] - 106s 2s/step - loss: 0.1905 - acc: 0.9263 - val_loss: 0.1778 - val_acc: 0.9329\n",
      "Epoch 12/30\n",
      "58/58 [==============================] - 107s 2s/step - loss: 0.1774 - acc: 0.9298 - val_loss: 0.1823 - val_acc: 0.9302\n",
      "Epoch 13/30\n",
      "58/58 [==============================] - 107s 2s/step - loss: 0.1653 - acc: 0.9349 - val_loss: 0.1524 - val_acc: 0.9415\n",
      "Epoch 14/30\n",
      "58/58 [==============================] - 106s 2s/step - loss: 0.1637 - acc: 0.9392 - val_loss: 0.1610 - val_acc: 0.9442\n",
      "Epoch 15/30\n",
      "58/58 [==============================] - 108s 2s/step - loss: 0.1564 - acc: 0.9418 - val_loss: 0.1463 - val_acc: 0.9415\n",
      "Epoch 16/30\n",
      "58/58 [==============================] - 106s 2s/step - loss: 0.1450 - acc: 0.9456 - val_loss: 0.1496 - val_acc: 0.9469\n",
      "Epoch 17/30\n",
      "58/58 [==============================] - 107s 2s/step - loss: 0.1409 - acc: 0.9460 - val_loss: 0.1571 - val_acc: 0.9318\n",
      "Epoch 18/30\n",
      "58/58 [==============================] - 105s 2s/step - loss: 0.1530 - acc: 0.9425 - val_loss: 0.1305 - val_acc: 0.9518\n",
      "Epoch 19/30\n",
      "58/58 [==============================] - 107s 2s/step - loss: 0.1414 - acc: 0.9448 - val_loss: 0.1658 - val_acc: 0.9388\n",
      "Epoch 20/30\n",
      "58/58 [==============================] - 104s 2s/step - loss: 0.1419 - acc: 0.9471 - val_loss: 0.1632 - val_acc: 0.9329\n",
      "Epoch 21/30\n",
      "58/58 [==============================] - 108s 2s/step - loss: 0.1266 - acc: 0.9521 - val_loss: 0.1300 - val_acc: 0.9551\n",
      "Epoch 22/30\n",
      "58/58 [==============================] - 105s 2s/step - loss: 0.1317 - acc: 0.9501 - val_loss: 0.1421 - val_acc: 0.9502\n",
      "Epoch 23/30\n",
      "58/58 [==============================] - 107s 2s/step - loss: 0.1258 - acc: 0.9530 - val_loss: 0.1457 - val_acc: 0.9486\n",
      "Epoch 24/30\n",
      "58/58 [==============================] - 107s 2s/step - loss: 0.1243 - acc: 0.9532 - val_loss: 0.1395 - val_acc: 0.9518\n",
      "Epoch 25/30\n",
      "58/58 [==============================] - 107s 2s/step - loss: 0.1135 - acc: 0.9559 - val_loss: 0.1324 - val_acc: 0.9524\n",
      "Epoch 26/30\n",
      "58/58 [==============================] - 106s 2s/step - loss: 0.1144 - acc: 0.9564 - val_loss: 0.1553 - val_acc: 0.9464\n",
      "Epoch 27/30\n",
      "58/58 [==============================] - 106s 2s/step - loss: 0.1182 - acc: 0.9529 - val_loss: 0.1361 - val_acc: 0.9518\n",
      "Epoch 28/30\n",
      "58/58 [==============================] - 108s 2s/step - loss: 0.1128 - acc: 0.9563 - val_loss: 0.1491 - val_acc: 0.9448\n",
      "Epoch 29/30\n",
      "58/58 [==============================] - 108s 2s/step - loss: 0.1076 - acc: 0.9579 - val_loss: 0.1326 - val_acc: 0.9572\n",
      "Epoch 30/30\n",
      "58/58 [==============================] - 108s 2s/step - loss: 0.1063 - acc: 0.9548 - val_loss: 0.1385 - val_acc: 0.9561\n"
     ]
    }
   ],
   "source": [
    " # Design the model\n",
    "    \n",
    "def build_model_1():\n",
    "    cnn = Sequential()\n",
    "\n",
    "    cnn.add(InputLayer(input_shape=(150, 150, 1)))\n",
    "    cnn.add(Conv2D(32, (3, 3), activation='relu'))\n",
    "    cnn.add(MaxPooling2D((2, 2)))\n",
    "    cnn.add(Conv2D(32, (3, 3), activation='relu'))\n",
    "    cnn.add(MaxPooling2D((2, 2)))\n",
    "    cnn.add(Conv2D(32, (3, 3), activation='relu'))\n",
    "    cnn.add(MaxPooling2D((2, 2)))\n",
    "    ### add layer\n",
    "    cnn.add(Conv2D(32, (3, 3), activation='relu'))\n",
    "    cnn.add(MaxPooling2D((2, 2)))\n",
    "\n",
    "    cnn.add(Flatten())\n",
    "\n",
    "    cnn.add(Dense(512, activation='relu'))\n",
    "    ### additional layer\n",
    "    cnn.add(Dense(128, activation='relu'))\n",
    "    cnn.add(Dense(64, activation='relu'))\n",
    "    ### ends here\n",
    "    cnn.add(Dense(3, activation='softmax'))\n",
    "    \n",
    "    # Compile\n",
    "    cnn.compile(optimizer='adam',loss='categorical_crossentropy',metrics=['acc'])\n",
    "    return cnn\n",
    "\n",
    "cnn = build_model_1()\n",
    "\n",
    "# Train the model\n",
    "\n",
    "cnn_model = cnn.fit(train_generator,\n",
    "                      epochs = 30,\n",
    "                      steps_per_epoch = len(train_generator),\n",
    "                      validation_data = val_generator,\n",
    "                      validation_steps = len(val_generator),\n",
    "                      verbose = 1)"
   ]
  },
  {
   "cell_type": "markdown",
   "id": "64a69979-7af6-4cdb-8694-f26889743e32",
   "metadata": {},
   "source": [
    "## Train and Validation Loss Plot"
   ]
  },
  {
   "cell_type": "code",
   "execution_count": 224,
   "id": "96b3f0b5-e585-4711-a036-7e6b908c93db",
   "metadata": {},
   "outputs": [],
   "source": [
    "# Define function for plotting train and validation curve\n",
    "def train_validation_loss(cnn_model):\n",
    "    train_loss = cnn_model.history['loss']\n",
    "    val_loss = cnn_model.history['val_loss']\n",
    "    fig = plt.figure(figsize = (8,5))\n",
    "    plt.title(\"Training vs. Validation Loss\")\n",
    "    plt.plot(train_loss, label='training loss')\n",
    "    plt.plot(val_loss, label='validation loss')\n",
    "    plt.xlabel(\"Number of Epochs\", size=14)\n",
    "    plt.legend()"
   ]
  },
  {
   "cell_type": "code",
   "execution_count": 225,
   "id": "1e119112-c86f-4927-be8b-4a99adc4841c",
   "metadata": {},
   "outputs": [
    {
     "data": {
      "image/png": "[encoded data removed]",
      "text/plain": [
       "<Figure size 576x360 with 1 Axes>"
      ]
     },
     "metadata": {
      "needs_background": "light"
     },
     "output_type": "display_data"
    }
   ],
   "source": [
    "train_validation_loss(cnn_model)"
   ]
  },
  {
   "cell_type": "markdown",
   "id": "9ac9302b-9d02-4d70-96c6-b57ca0e555b3",
   "metadata": {},
   "source": [
    "## Train and Validation Accuracy Plot"
   ]
  },
  {
   "cell_type": "code",
   "execution_count": 226,
   "id": "fac0b2d5-c53b-4dd9-ad1c-62589cac6258",
   "metadata": {},
   "outputs": [],
   "source": [
    "# Define function for plotting train and validation curve\n",
    "def train_validation_acc(cnn_model):\n",
    "    train_loss = cnn_model.history['acc']\n",
    "    val_loss = cnn_model.history['val_acc']\n",
    "    fig = plt.figure(figsize = (8,5))\n",
    "    plt.title(\"Training vs. Validation Acc\")\n",
    "    plt.plot(train_loss, label='training acc')\n",
    "    plt.plot(val_loss, label='validation acc')\n",
    "    plt.xlabel(\"Number of Epochs\", size=14)\n",
    "    plt.legend()"
   ]
  },
  {
   "cell_type": "code",
   "execution_count": 227,
   "id": "60c3c7f9-cf90-4bf2-8519-3f8766ab3fc2",
   "metadata": {},
   "outputs": [
    {
     "data": {
      "image/png": "[encoded data removed]",
      "text/plain": [
       "<Figure size 576x360 with 1 Axes>"
      ]
     },
     "metadata": {
      "needs_background": "light"
     },
     "output_type": "display_data"
    }
   ],
   "source": [
    "train_validation_acc(cnn_model)"
   ]
  },
  {
   "cell_type": "markdown",
   "id": "7dfc409a-50c6-4e82-b405-41f17872e41a",
   "metadata": {},
   "source": [
    "## Summary"
   ]
  },
  {
   "cell_type": "code",
   "execution_count": 228,
   "id": "f2992c61-df59-40be-9ffa-eaf69f143b47",
   "metadata": {},
   "outputs": [],
   "source": [
    "from sklearn.metrics import accuracy_score, f1_score, precision_score, recall_score\n",
    "def summary(cnn):\n",
    "    y_true = test_generator.classes\n",
    "    Y_pred = cnn.predict(test_generator, steps = len(test_generator))\n",
    "    cf_matrix = confusion_matrix(y_true, [Y_pred[i].argmax() for i in range(len(Y_pred))])\n",
    "    plot_confusion_matrix(cf_matrix, hide_ticks = True, cmap = plt.cm.Blues)\n",
    "    plt.title(\"Confusion Matrix\", fontsize = 22) \n",
    "    plt.xticks(range(3), ['Normal','Pneumonia','Tuberculosis'], fontsize = 10)\n",
    "    plt.yticks(range(3), ['Normal','Pneumonia','Tuberculosis'], fontsize = 10)\n",
    "    \n",
    "    TN, FP1, FT1, FN1, TP, FT2, FN2, FP2, TT = cf_matrix.ravel() # cm[0,0], cm[0, 1], cm[1, 0], cm[1, 1]\n",
    "    #ravel, which is used to change a 2-dimensional array or a multi-dimensional array into a contiguous flattened array. \n",
    "    #The returned array has the same data type as the source array or input array.\n",
    "    accuracy = (TP + TN + TT) / np.sum(cf_matrix) \n",
    "    \n",
    "    precision_normal = TN / (TN + FN1 + FN2) \n",
    "    precision_pneumonia = TP / (TP + FP1 + FP2) \n",
    "    precision_tuberculosis = TT / (TT + FT1 + FT2) \n",
    "    precision_avg = (precision_normal + precision_pneumonia + precision_tuberculosis) / 3\n",
    "    \n",
    "    recall_normal =  TN / (TN + FP1 + FT1)\n",
    "    recall_pneumonia =  TP / (TP + FN1 + FT2)\n",
    "    recall_tuberculosis =  TT / (TT + FN2 + FP2)\n",
    "    recall_avg = (recall_normal + recall_pneumonia + recall_tuberculosis) / 3\n",
    "    \n",
    "    f1 = 2*precision_avg*recall_avg / (precision_avg + recall_avg)\n",
    "    \n",
    "    stats_summary = f'Average: {accuracy}\\n\\nNormal precision: {precision_normal}\\nPneumonia precision: {precision_pneumonia}\\nTuberculosis precision: {precision_tuberculosis}\\nAverage precision: {precision_avg}\\n\\nNormal Recall: {recall_normal}\\nPneumonia recall: {recall_pneumonia}\\nTuberculosis recall: {recall_tuberculosis}\\nAverage recall: {recall_avg}\\n\\nF1 Score: {f1}'\n",
    "    print(stats_summary)"
   ]
  },
  {
   "cell_type": "code",
   "execution_count": 229,
   "id": "1b585b03-0511-4ba1-99cc-e9f768d23708",
   "metadata": {},
   "outputs": [
    {
     "name": "stdout",
     "output_type": "stream",
     "text": [
      "Average: 0.9254385964912281\n",
      "\n",
      "Normal precision: 0.9690522243713733\n",
      "Pneumonia precision: 0.8798185941043084\n",
      "Tuberculosis precision: 0.71900826446281\n",
      "Average precision: 0.8559596943128306\n",
      "\n",
      "Normal Recall: 0.9209558823529411\n",
      "Pneumonia recall: 0.9748743718592965\n",
      "Tuberculosis recall: 0.7909090909090909\n",
      "Average recall: 0.8955797817071095\n",
      "\n",
      "F1 Score: 0.8753216318306285\n"
     ]
    },
    {
     "data": {
      "image/png": "[encoded data removed]",
      "text/plain": [
       "<Figure size 432x288 with 1 Axes>"
      ]
     },
     "metadata": {
      "needs_background": "light"
     },
     "output_type": "display_data"
    }
   ],
   "source": [
    "summary(cnn)"
   ]
  },
  {
   "cell_type": "markdown",
   "id": "3db896cd-dafb-4ca0-89e1-b671cbd25215",
   "metadata": {
    "tags": []
   },
   "source": [
    "## Save Model"
   ]
  },
  {
   "cell_type": "code",
   "execution_count": 230,
   "id": "c47dd036-2cc0-458f-995e-e61897aa1e01",
   "metadata": {},
   "outputs": [
    {
     "name": "stdout",
     "output_type": "stream",
     "text": [
      "INFO:tensorflow:Assets written to: /opt/ml/x-ray project/custom_models/dense128+64+cnnLayer_epoch30/assets\n"
     ]
    }
   ],
   "source": [
    "change = 'dense128+64+cnnLayer_epoch30'\n",
    "model_dir = f'/opt/ml/x-ray project/custom_models/{change}'\n",
    "os.mkdir(model_dir)\n",
    "cnn.save(model_dir)"
   ]
  },
  {
   "cell_type": "markdown",
   "id": "6341361e-5806-42ec-8772-7b0e93fb40ef",
   "metadata": {},
   "source": [
    "## Load Model"
   ]
  },
  {
   "cell_type": "code",
   "execution_count": null,
   "id": "777f8989-73e3-4706-a20e-1e79f363d357",
   "metadata": {},
   "outputs": [],
   "source": [
    "from tensorflow import keras\n",
    "cnn = keras.models.load_model('/opt/ml/x-ray project/custom_models/epoch15')"
   ]
  }
 ],
 "metadata": {
  "kernelspec": {
   "display_name": "Python 3 (ipykernel)",
   "language": "python",
   "name": "python3"
  },
  "language_info": {
   "codemirror_mode": {
    "name": "ipython",
    "version": 3
   },
   "file_extension": ".py",
   "mimetype": "text/x-python",
   "name": "python",
   "nbconvert_exporter": "python",
   "pygments_lexer": "ipython3",
   "version": "3.8.5"
  }
 },
 "nbformat": 4,
 "nbformat_minor": 5
}
